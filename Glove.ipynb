{
  "nbformat": 4,
  "nbformat_minor": 0,
  "metadata": {
    "colab": {
      "provenance": [],
      "authorship_tag": "ABX9TyMoE0gpb3LYgujVrRMyCI94",
      "include_colab_link": true
    },
    "kernelspec": {
      "name": "python3",
      "display_name": "Python 3"
    },
    "language_info": {
      "name": "python"
    }
  },
  "cells": [
    {
      "cell_type": "markdown",
      "metadata": {
        "id": "view-in-github",
        "colab_type": "text"
      },
      "source": [
        "<a href=\"https://colab.research.google.com/github/D-060103/TESSSS/blob/main/Glove.ipynb\" target=\"_parent\"><img src=\"https://colab.research.google.com/assets/colab-badge.svg\" alt=\"Open In Colab\"/></a>"
      ]
    },
    {
      "cell_type": "code",
      "source": [
        "import pandas as pd\n",
        "import re\n",
        "\n",
        "from google.colab import drive\n",
        "drive.mount('/content/drive')\n",
        "path = \"/content/drive/MyDrive/Dataset/dataset.csv\"\n",
        "\n",
        "# Membaca file CSV menjadi DataFrame\n",
        "df = pd.read_csv(path)"
      ],
      "metadata": {
        "colab": {
          "base_uri": "https://localhost:8080/"
        },
        "id": "S6tG_AzEprTQ",
        "outputId": "f86fbcfa-7c92-453e-f710-421eddb96caa"
      },
      "execution_count": null,
      "outputs": [
        {
          "output_type": "stream",
          "name": "stdout",
          "text": [
            "Mounted at /content/drive\n"
          ]
        }
      ]
    },
    {
      "cell_type": "code",
      "source": [
        "# Melihat 5 data pertama\n",
        "subset_columns = df.iloc[:, :2]\n",
        "print(subset_columns.head())"
      ],
      "metadata": {
        "colab": {
          "base_uri": "https://localhost:8080/"
        },
        "id": "ljrfhlR2Byn4",
        "outputId": "de6459c9-2671-4b79-e85b-8b58c93f7c1a"
      },
      "execution_count": null,
      "outputs": [
        {
          "output_type": "stream",
          "name": "stdout",
          "text": [
            "   No                                              Title\n",
            "0   0  Pembuatan Sistem Pengambilan Keputusan Penjual...\n",
            "1   1  Pembuatan Aplikasi Pendidikan Bahasa Inggris G...\n",
            "2   2  Optimasi Kapasitas Transportasi Pendistribusia...\n",
            "3   3  Pembuatan Sistem Informasi Pariwisata di Treng...\n",
            "4   4  Pembuatan Sistem Informasi Pemasaran dan Penju...\n"
          ]
        }
      ]
    },
    {
      "cell_type": "code",
      "source": [
        "import nltk\n",
        "from nltk.tokenize import word_tokenize\n",
        "from nltk.corpus import stopwords\n",
        "from nltk.stem import PorterStemmer\n",
        "\n",
        "# Download data NLTK\n",
        "nltk.download('punkt')\n",
        "nltk.download('punkt_tab')\n",
        "nltk.download('stopwords')"
      ],
      "metadata": {
        "colab": {
          "base_uri": "https://localhost:8080/"
        },
        "id": "2XGsAoQzCSlr",
        "outputId": "2bfaa117-ca49-42bb-cd54-8f1b25179930"
      },
      "execution_count": null,
      "outputs": [
        {
          "output_type": "stream",
          "name": "stderr",
          "text": [
            "[nltk_data] Downloading package punkt to /root/nltk_data...\n",
            "[nltk_data]   Unzipping tokenizers/punkt.zip.\n",
            "[nltk_data] Downloading package punkt_tab to /root/nltk_data...\n",
            "[nltk_data]   Unzipping tokenizers/punkt_tab.zip.\n",
            "[nltk_data] Downloading package stopwords to /root/nltk_data...\n",
            "[nltk_data]   Unzipping corpora/stopwords.zip.\n"
          ]
        },
        {
          "output_type": "execute_result",
          "data": {
            "text/plain": [
              "True"
            ]
          },
          "metadata": {},
          "execution_count": 3
        }
      ]
    },
    {
      "cell_type": "code",
      "source": [
        "# Mengambil kolom title\n",
        "text_column = df['Title']"
      ],
      "metadata": {
        "id": "vuW6XU1wGFmP"
      },
      "execution_count": null,
      "outputs": []
    },
    {
      "cell_type": "code",
      "source": [
        "# Membersihkan text pada kolom\n",
        "cleaned_text = text_column.apply(lambda x: re.sub(r'[^\\w\\s]', '', str(x)))"
      ],
      "metadata": {
        "id": "vhdFnROLGI_v"
      },
      "execution_count": null,
      "outputs": []
    },
    {
      "cell_type": "code",
      "source": [
        "# Tokenisasi teks\n",
        "df['tokenized_text'] = cleaned_text.apply(word_tokenize)"
      ],
      "metadata": {
        "id": "LA1JtRW2H0FI"
      },
      "execution_count": null,
      "outputs": []
    },
    {
      "cell_type": "code",
      "source": [
        "# Menghapus Stopword\n",
        "stop_words = set(stopwords.words('indonesian'))\n",
        "df['tokenized_text'] = df['tokenized_text'].apply(lambda x: ' '.join([word for word in x if word.lower() not in stop_words]))"
      ],
      "metadata": {
        "id": "Rj-YX7HYIBMw"
      },
      "execution_count": null,
      "outputs": []
    },
    {
      "cell_type": "code",
      "source": [
        "print(df[['Title', 'tokenized_text']].head())"
      ],
      "metadata": {
        "colab": {
          "base_uri": "https://localhost:8080/"
        },
        "id": "WB-ZF_HVKBQ6",
        "outputId": "df3f4ada-6a37-4bf9-8f65-0c3b9049fbec"
      },
      "execution_count": null,
      "outputs": [
        {
          "output_type": "stream",
          "name": "stdout",
          "text": [
            "                                               Title  \\\n",
            "0  Pembuatan Sistem Pengambilan Keputusan Penjual...   \n",
            "1  Pembuatan Aplikasi Pendidikan Bahasa Inggris G...   \n",
            "2  Optimasi Kapasitas Transportasi Pendistribusia...   \n",
            "3  Pembuatan Sistem Informasi Pariwisata di Treng...   \n",
            "4  Pembuatan Sistem Informasi Pemasaran dan Penju...   \n",
            "\n",
            "                                      tokenized_text  \n",
            "0  Pembuatan Sistem Pengambilan Keputusan Penjual...  \n",
            "1  Pembuatan Aplikasi Pendidikan Bahasa Inggris G...  \n",
            "2  Optimasi Kapasitas Transportasi Pendistribusia...  \n",
            "3  Pembuatan Sistem Informasi Pariwisata Trenggal...  \n",
            "4  Pembuatan Sistem Informasi Pemasaran Penjualan...  \n"
          ]
        }
      ]
    },
    {
      "cell_type": "code",
      "source": [
        "!pip install Sastrawi"
      ],
      "metadata": {
        "colab": {
          "base_uri": "https://localhost:8080/"
        },
        "id": "-PipbefRDBBZ",
        "outputId": "f75026bf-d6e2-4fca-bbb6-09e1fa0ee7a7"
      },
      "execution_count": null,
      "outputs": [
        {
          "output_type": "stream",
          "name": "stdout",
          "text": [
            "Collecting Sastrawi\n",
            "  Downloading Sastrawi-1.0.1-py2.py3-none-any.whl.metadata (909 bytes)\n",
            "Downloading Sastrawi-1.0.1-py2.py3-none-any.whl (209 kB)\n",
            "\u001b[?25l   \u001b[90m━━━━━━━━━━━━━━━━━━━━━━━━━━━━━━━━━━━━━━━━\u001b[0m \u001b[32m0.0/209.7 kB\u001b[0m \u001b[31m?\u001b[0m eta \u001b[36m-:--:--\u001b[0m\r\u001b[2K   \u001b[91m━━━━━━━━━━━━━━━━━━━━━━━━━━━━━━━━━━━━━━━\u001b[0m\u001b[90m╺\u001b[0m \u001b[32m204.8/209.7 kB\u001b[0m \u001b[31m6.2 MB/s\u001b[0m eta \u001b[36m0:00:01\u001b[0m\r\u001b[2K   \u001b[90m━━━━━━━━━━━━━━━━━━━━━━━━━━━━━━━━━━━━━━━━\u001b[0m \u001b[32m209.7/209.7 kB\u001b[0m \u001b[31m4.3 MB/s\u001b[0m eta \u001b[36m0:00:00\u001b[0m\n",
            "\u001b[?25hInstalling collected packages: Sastrawi\n",
            "Successfully installed Sastrawi-1.0.1\n"
          ]
        }
      ]
    },
    {
      "cell_type": "code",
      "source": [
        "from Sastrawi.Stemmer.StemmerFactory import StemmerFactory\n",
        "\n",
        "# Buat stemmer\n",
        "factory = StemmerFactory()\n",
        "stemmer = factory.create_stemmer()\n",
        "\n",
        "# Terapkan stemming pada teks yang sudah di-tokenisasi\n",
        "df['stemmed_text'] = df['tokenized_text'].apply(lambda x: ' '.join([stemmer.stem(word) for word in x.split()]))\n",
        "print(df['stemmed_text'].head())"
      ],
      "metadata": {
        "colab": {
          "base_uri": "https://localhost:8080/"
        },
        "id": "qpyaQVDdEUcq",
        "outputId": "022242e8-20b0-41dc-9444-5154a0814976"
      },
      "execution_count": null,
      "outputs": [
        {
          "output_type": "stream",
          "name": "stdout",
          "text": [
            "0    buat sistem ambil putus jual kendara kredit me...\n",
            "1    buat aplikasi didik bahasa inggris grammer tin...\n",
            "2    optimasi kapasitas transportasi distribusi bar...\n",
            "3    buat sistem informasi pariwisata trenggalek ca...\n",
            "4    buat sistem informasi pasar jual apartemen tam...\n",
            "Name: stemmed_text, dtype: object\n"
          ]
        }
      ]
    },
    {
      "cell_type": "code",
      "source": [
        "# Simpan kolom 'stemmed_text' ke dalam file teks\n",
        "df['stemmed_text'].to_csv('/content/drive/MyDrive/Dataset/dataset_preprocessed.txt', index=False, header=False, sep=' ')"
      ],
      "metadata": {
        "id": "3Y0P2AeRh6aY"
      },
      "execution_count": null,
      "outputs": []
    },
    {
      "cell_type": "code",
      "source": [
        "# Clone GloVe repository\n",
        "!git clone https://github.com/stanfordnlp/GloVe.git"
      ],
      "metadata": {
        "colab": {
          "base_uri": "https://localhost:8080/"
        },
        "id": "LRkBXId0DHHV",
        "outputId": "c99dc0c6-9861-45ad-abac-c14f11c16175"
      },
      "execution_count": null,
      "outputs": [
        {
          "output_type": "stream",
          "name": "stdout",
          "text": [
            "Cloning into 'GloVe'...\n",
            "remote: Enumerating objects: 661, done.\u001b[K\n",
            "remote: Counting objects: 100% (69/69), done.\u001b[K\n",
            "remote: Compressing objects: 100% (37/37), done.\u001b[K\n",
            "remote: Total 661 (delta 37), reused 47 (delta 32), pack-reused 592 (from 1)\u001b[K\n",
            "Receiving objects: 100% (661/661), 248.05 KiB | 1.25 MiB/s, done.\n",
            "Resolving deltas: 100% (375/375), done.\n"
          ]
        }
      ]
    },
    {
      "cell_type": "code",
      "source": [
        "# Masuk ke direktori GloVe\n",
        "%cd GloVe\n",
        "\n",
        "# Compile GloVe\n",
        "!make"
      ],
      "metadata": {
        "colab": {
          "base_uri": "https://localhost:8080/"
        },
        "id": "g90jLcPjfs-k",
        "outputId": "f9b8b52f-a3ff-4e0a-f6af-24f742f3b19e"
      },
      "execution_count": null,
      "outputs": [
        {
          "output_type": "stream",
          "name": "stdout",
          "text": [
            "/content/GloVe\n",
            "mkdir -p build\n",
            "gcc -c src/vocab_count.c -o build/vocab_count.o -lm -pthread -O3 -march=native -funroll-loops -Wall -Wextra -Wpedantic\n",
            "gcc -c src/cooccur.c -o build/cooccur.o -lm -pthread -O3 -march=native -funroll-loops -Wall -Wextra -Wpedantic\n",
            "\u001b[01m\u001b[Ksrc/cooccur.c:\u001b[m\u001b[K In function ‘\u001b[01m\u001b[Kmerge_files\u001b[m\u001b[K’:\n",
            "\u001b[01m\u001b[Ksrc/cooccur.c:180:9:\u001b[m\u001b[K \u001b[01;35m\u001b[Kwarning: \u001b[m\u001b[Kignoring return value of ‘\u001b[01m\u001b[Kfread\u001b[m\u001b[K’ declared with attribute ‘\u001b[01m\u001b[Kwarn_unused_result\u001b[m\u001b[K’ [\u001b[01;35m\u001b[K\u001b]8;;https://gcc.gnu.org/onlinedocs/gcc/Warning-Options.html#index-Wunused-result\u0007-Wunused-result\u001b]8;;\u0007\u001b[m\u001b[K]\n",
            "  180 |         \u001b[01;35m\u001b[Kfread(&new, sizeof(CREC), 1, fid[i])\u001b[m\u001b[K;\n",
            "      |         \u001b[01;35m\u001b[K^~~~~~~~~~~~~~~~~~~~~~~~~~~~~~~~~~~~\u001b[m\u001b[K\n",
            "\u001b[01m\u001b[Ksrc/cooccur.c:190:5:\u001b[m\u001b[K \u001b[01;35m\u001b[Kwarning: \u001b[m\u001b[Kignoring return value of ‘\u001b[01m\u001b[Kfread\u001b[m\u001b[K’ declared with attribute ‘\u001b[01m\u001b[Kwarn_unused_result\u001b[m\u001b[K’ [\u001b[01;35m\u001b[K\u001b]8;;https://gcc.gnu.org/onlinedocs/gcc/Warning-Options.html#index-Wunused-result\u0007-Wunused-result\u001b]8;;\u0007\u001b[m\u001b[K]\n",
            "  190 |     \u001b[01;35m\u001b[Kfread(&new, sizeof(CREC), 1, fid[i])\u001b[m\u001b[K;\n",
            "      |     \u001b[01;35m\u001b[K^~~~~~~~~~~~~~~~~~~~~~~~~~~~~~~~~~~~\u001b[m\u001b[K\n",
            "\u001b[01m\u001b[Ksrc/cooccur.c:203:9:\u001b[m\u001b[K \u001b[01;35m\u001b[Kwarning: \u001b[m\u001b[Kignoring return value of ‘\u001b[01m\u001b[Kfread\u001b[m\u001b[K’ declared with attribute ‘\u001b[01m\u001b[Kwarn_unused_result\u001b[m\u001b[K’ [\u001b[01;35m\u001b[K\u001b]8;;https://gcc.gnu.org/onlinedocs/gcc/Warning-Options.html#index-Wunused-result\u0007-Wunused-result\u001b]8;;\u0007\u001b[m\u001b[K]\n",
            "  203 |         \u001b[01;35m\u001b[Kfread(&new, sizeof(CREC), 1, fid[i])\u001b[m\u001b[K;\n",
            "      |         \u001b[01;35m\u001b[K^~~~~~~~~~~~~~~~~~~~~~~~~~~~~~~~~~~~\u001b[m\u001b[K\n",
            "gcc -c src/shuffle.c -o build/shuffle.o -lm -pthread -O3 -march=native -funroll-loops -Wall -Wextra -Wpedantic\n",
            "\u001b[01m\u001b[Ksrc/shuffle.c:\u001b[m\u001b[K In function ‘\u001b[01m\u001b[Kshuffle_merge\u001b[m\u001b[K’:\n",
            "\u001b[01m\u001b[Ksrc/shuffle.c:96:17:\u001b[m\u001b[K \u001b[01;35m\u001b[Kwarning: \u001b[m\u001b[Kignoring return value of ‘\u001b[01m\u001b[Kfread\u001b[m\u001b[K’ declared with attribute ‘\u001b[01m\u001b[Kwarn_unused_result\u001b[m\u001b[K’ [\u001b[01;35m\u001b[K\u001b]8;;https://gcc.gnu.org/onlinedocs/gcc/Warning-Options.html#index-Wunused-result\u0007-Wunused-result\u001b]8;;\u0007\u001b[m\u001b[K]\n",
            "   96 |                 \u001b[01;35m\u001b[Kfread(&array[i], sizeof(CREC), 1, fid[j])\u001b[m\u001b[K;\n",
            "      |                 \u001b[01;35m\u001b[K^~~~~~~~~~~~~~~~~~~~~~~~~~~~~~~~~~~~~~~~~\u001b[m\u001b[K\n",
            "\u001b[01m\u001b[Ksrc/shuffle.c:\u001b[m\u001b[K In function ‘\u001b[01m\u001b[Kshuffle_by_chunks\u001b[m\u001b[K’:\n",
            "\u001b[01m\u001b[Ksrc/shuffle.c:161:9:\u001b[m\u001b[K \u001b[01;35m\u001b[Kwarning: \u001b[m\u001b[Kignoring return value of ‘\u001b[01m\u001b[Kfread\u001b[m\u001b[K’ declared with attribute ‘\u001b[01m\u001b[Kwarn_unused_result\u001b[m\u001b[K’ [\u001b[01;35m\u001b[K\u001b]8;;https://gcc.gnu.org/onlinedocs/gcc/Warning-Options.html#index-Wunused-result\u0007-Wunused-result\u001b]8;;\u0007\u001b[m\u001b[K]\n",
            "  161 |         \u001b[01;35m\u001b[Kfread(&array[i], sizeof(CREC), 1, fin)\u001b[m\u001b[K;\n",
            "      |         \u001b[01;35m\u001b[K^~~~~~~~~~~~~~~~~~~~~~~~~~~~~~~~~~~~~~\u001b[m\u001b[K\n",
            "gcc -c src/glove.c -o build/glove.o -lm -pthread -O3 -march=native -funroll-loops -Wall -Wextra -Wpedantic\n",
            "\u001b[01m\u001b[Ksrc/glove.c:\u001b[m\u001b[K In function ‘\u001b[01m\u001b[Kload_init_file\u001b[m\u001b[K’:\n",
            "\u001b[01m\u001b[Ksrc/glove.c:86:9:\u001b[m\u001b[K \u001b[01;35m\u001b[Kwarning: \u001b[m\u001b[Kignoring return value of ‘\u001b[01m\u001b[Kfread\u001b[m\u001b[K’ declared with attribute ‘\u001b[01m\u001b[Kwarn_unused_result\u001b[m\u001b[K’ [\u001b[01;35m\u001b[K\u001b]8;;https://gcc.gnu.org/onlinedocs/gcc/Warning-Options.html#index-Wunused-result\u0007-Wunused-result\u001b]8;;\u0007\u001b[m\u001b[K]\n",
            "   86 |         \u001b[01;35m\u001b[Kfread(&array[a], sizeof(real), 1, fin)\u001b[m\u001b[K;\n",
            "      |         \u001b[01;35m\u001b[K^~~~~~~~~~~~~~~~~~~~~~~~~~~~~~~~~~~~~~\u001b[m\u001b[K\n",
            "\u001b[01m\u001b[Ksrc/glove.c:\u001b[m\u001b[K In function ‘\u001b[01m\u001b[Kglove_thread\u001b[m\u001b[K’:\n",
            "\u001b[01m\u001b[Ksrc/glove.c:182:9:\u001b[m\u001b[K \u001b[01;35m\u001b[Kwarning: \u001b[m\u001b[Kignoring return value of ‘\u001b[01m\u001b[Kfread\u001b[m\u001b[K’ declared with attribute ‘\u001b[01m\u001b[Kwarn_unused_result\u001b[m\u001b[K’ [\u001b[01;35m\u001b[K\u001b]8;;https://gcc.gnu.org/onlinedocs/gcc/Warning-Options.html#index-Wunused-result\u0007-Wunused-result\u001b]8;;\u0007\u001b[m\u001b[K]\n",
            "  182 |         \u001b[01;35m\u001b[Kfread(&cr, sizeof(CREC), 1, fin)\u001b[m\u001b[K;\n",
            "      |         \u001b[01;35m\u001b[K^~~~~~~~~~~~~~~~~~~~~~~~~~~~~~~~\u001b[m\u001b[K\n",
            "gcc -c src/common.c -o build/common.o -lm -pthread -O3 -march=native -funroll-loops -Wall -Wextra -Wpedantic\n",
            "gcc build/vocab_count.o build/common.o -o build/vocab_count -lm -pthread -O3 -march=native -funroll-loops -Wall -Wextra -Wpedantic\n",
            "gcc build/cooccur.o build/common.o -o build/cooccur -lm -pthread -O3 -march=native -funroll-loops -Wall -Wextra -Wpedantic\n",
            "gcc build/shuffle.o build/common.o -o build/shuffle -lm -pthread -O3 -march=native -funroll-loops -Wall -Wextra -Wpedantic\n",
            "gcc build/glove.o build/common.o -o build/glove -lm -pthread -O3 -march=native -funroll-loops -Wall -Wextra -Wpedantic\n"
          ]
        }
      ]
    },
    {
      "cell_type": "code",
      "source": [
        "# Buat vocabulary dari dataset preprocessed\n",
        "!./build/vocab_count -min-count 5 -verbose 2 < /content/drive/MyDrive/Dataset/dataset_preprocessed.txt > /content/vocab.txt\n",
        "\n",
        "# Buat co-occurrence matrix dari dataset preprocessed\n",
        "!./build/cooccur -memory 4.0 -vocab-file /content/vocab.txt -verbose 2 -window-size 15 < /content/drive/MyDrive/Dataset/dataset_preprocessed.txt > /content/cooccurrence.bin\n"
      ],
      "metadata": {
        "colab": {
          "base_uri": "https://localhost:8080/"
        },
        "id": "iI22RXoZfxr7",
        "outputId": "ccc3eb32-24fc-452e-f7e4-e7e6ec08ec00"
      },
      "execution_count": null,
      "outputs": [
        {
          "output_type": "stream",
          "name": "stdout",
          "text": [
            "BUILDING VOCABULARY\n",
            "Processed 0 tokens.\u001b[0GProcessed 2683 tokens.\n",
            "Counted 1052 unique words.\n",
            "Truncating vocabulary at min count 5.\n",
            "Using vocabulary of size 71.\n",
            "\n",
            "COUNTING COOCCURRENCES\n",
            "window size: 15\n",
            "context: symmetric\n",
            "max product: 13752509\n",
            "overflow length: 38028356\n",
            "Reading vocab from file \"/content/vocab.txt\"...loaded 71 words.\n",
            "Building lookup table...table contains 5042 elements.\n",
            "Processing token: 0\u001b[0GProcessed 2683 tokens.\n",
            "Writing cooccurrences to disk....2 files in total.\n",
            "Merging cooccurrence files: processed 0 lines.\u001b[39G0 lines.\u001b[0GMerging cooccurrence files: processed 1603 lines.\n",
            "\n"
          ]
        }
      ]
    },
    {
      "cell_type": "code",
      "source": [
        "# Latih model GloVe\n",
        "!./build/glove -save-file /content/vectors -threads 8 -input-file /content/cooccurrence.bin -x-max 10 -iter 15 -vector-size 100 -binary 2 -vocab-file /content/vocab.txt"
      ],
      "metadata": {
        "colab": {
          "base_uri": "https://localhost:8080/"
        },
        "id": "SIUyH80sjMmX",
        "outputId": "ac48c7d0-9da2-471f-916f-b46d4df827af"
      },
      "execution_count": null,
      "outputs": [
        {
          "output_type": "stream",
          "name": "stdout",
          "text": [
            "TRAINING MODEL\n",
            "Read 1603 lines.\n",
            "Initializing parameters...Using random seed 1733926142\n",
            "done.\n",
            "vector size: 100\n",
            "vocab size: 71\n",
            "x_max: 10.000000\n",
            "alpha: 0.750000\n",
            "12/11/24 - 02:09.02PM, iter: 001, cost: 0.135883\n",
            "12/11/24 - 02:09.02PM, iter: 002, cost: 0.110711\n",
            "12/11/24 - 02:09.02PM, iter: 003, cost: 0.100022\n",
            "12/11/24 - 02:09.02PM, iter: 004, cost: 0.098015\n",
            "12/11/24 - 02:09.02PM, iter: 005, cost: 0.096107\n",
            "12/11/24 - 02:09.02PM, iter: 006, cost: 0.094825\n",
            "12/11/24 - 02:09.02PM, iter: 007, cost: 0.093644\n",
            "12/11/24 - 02:09.02PM, iter: 008, cost: 0.092922\n",
            "12/11/24 - 02:09.02PM, iter: 009, cost: 0.092566\n",
            "12/11/24 - 02:09.02PM, iter: 010, cost: 0.091550\n",
            "12/11/24 - 02:09.02PM, iter: 011, cost: 0.090400\n",
            "12/11/24 - 02:09.02PM, iter: 012, cost: 0.089764\n",
            "12/11/24 - 02:09.02PM, iter: 013, cost: 0.088615\n",
            "12/11/24 - 02:09.02PM, iter: 014, cost: 0.087810\n",
            "12/11/24 - 02:09.02PM, iter: 015, cost: 0.085108\n"
          ]
        }
      ]
    },
    {
      "cell_type": "code",
      "source": [
        "import numpy as np\n",
        "\n",
        "# Fungsi untuk memuat model GloVe yang sudah dilatih\n",
        "def load_glove_model(file_path):\n",
        "    glove_model = {}\n",
        "    with open(file_path, 'r', encoding=\"utf-8\") as f:\n",
        "        for line in f:\n",
        "            split_line = line.split()\n",
        "            word = split_line[0]\n",
        "            embedding = np.array(split_line[1:], dtype=float)\n",
        "            glove_model[word] = embedding\n",
        "    return glove_model\n",
        "\n",
        "# Memuat vektor GloVe dari file vectors.txt\n",
        "glove_model = load_glove_model('/content/vectors.txt')"
      ],
      "metadata": {
        "id": "RVgjZH2djR7u"
      },
      "execution_count": null,
      "outputs": []
    },
    {
      "cell_type": "code",
      "source": [
        "# Mengambil semua kata dari glove_model\n",
        "words_to_visualize = list(glove_model.keys())"
      ],
      "metadata": {
        "id": "J6SDkqM1m7PL"
      },
      "execution_count": null,
      "outputs": []
    },
    {
      "cell_type": "code",
      "source": [
        "# Mengambil embedding vektor untuk semua kata\n",
        "word_vectors = np.array([glove_model[word] for word in words_to_visualize])"
      ],
      "metadata": {
        "id": "CKCwd-8kuBRt"
      },
      "execution_count": null,
      "outputs": []
    },
    {
      "cell_type": "code",
      "source": [
        "from sklearn.manifold import TSNE"
      ],
      "metadata": {
        "id": "mDaFAhQQuJLS"
      },
      "execution_count": null,
      "outputs": []
    },
    {
      "cell_type": "code",
      "source": [
        "# Reduksi dimensi menggunakan t-SNE\n",
        "tsne = TSNE(n_components=2, random_state=42)\n",
        "reduced_vectors = tsne.fit_transform(word_vectors)"
      ],
      "metadata": {
        "id": "I3R6Xs-puOJo"
      },
      "execution_count": null,
      "outputs": []
    },
    {
      "cell_type": "code",
      "source": [
        "import matplotlib.pyplot as plt\n",
        "\n",
        "# Visualisasi hasil t-SNE\n",
        "plt.figure(figsize=(14, 14))\n",
        "for i, word in enumerate(words_to_visualize):\n",
        "    plt.scatter(reduced_vectors[i, 0], reduced_vectors[i, 1], s=10)  # Ukuran titik\n",
        "    plt.text(reduced_vectors[i, 0], reduced_vectors[i, 1], word, fontsize=8)  # Ukuran font teks\n",
        "\n",
        "plt.title('t-SNE Visualization of GloVe Word Embeddings')\n",
        "plt.show()"
      ],
      "metadata": {
        "colab": {
          "base_uri": "https://localhost:8080/",
          "height": 1000
        },
        "id": "QjTTMTjYuURp",
        "outputId": "447efefe-1e29-493b-eca0-1b6f7320a7aa"
      },
      "execution_count": null,
      "outputs": [
        {
          "output_type": "display_data",
          "data": {
            "text/plain": [
              "<Figure size 1400x1400 with 1 Axes>"
            ],
            "image/png": "[encoded data removed]"
          },
          "metadata": {}
        }
      ]
    },
    {
      "cell_type": "code",
      "source": [
        "import numpy as np\n",
        "from sklearn.decomposition import TruncatedSVD\n",
        "from sklearn.preprocessing import StandardScaler"
      ],
      "metadata": {
        "id": "zPYZC9C0v0Rs"
      },
      "execution_count": null,
      "outputs": []
    },
    {
      "cell_type": "code",
      "source": [
        "# Memastikan bahwa model Glove sudah dimuat dengan baik\n",
        "glove_model = load_glove_model('/content/vectors.txt')"
      ],
      "metadata": {
        "id": "m2ZrwouZv6-q"
      },
      "execution_count": null,
      "outputs": []
    },
    {
      "cell_type": "code",
      "source": [
        "# Membuat fungsi untuk mendapatkan vektor dokumen dari rata-rata vektor kata (menggunakan GloVe)\n",
        "def document_vector_glove(doc):\n",
        "    # Ambil hanya kata-kata yang ada dalam model GloVe\n",
        "    words = [glove_model[word] for word in doc.split() if word in glove_model]\n",
        "\n",
        "    # Jika tidak ada kata yang dikenali oleh GloVe, kembalikan vektor nol\n",
        "    if len(words) == 0:\n",
        "        return np.zeros(100)  # Misal vektor GloVe memiliki dimensi 100\n",
        "\n",
        "    return np.mean(words, axis=0)"
      ],
      "metadata": {
        "id": "upKl4cKqv_W7"
      },
      "execution_count": null,
      "outputs": []
    },
    {
      "cell_type": "code",
      "source": [
        "# Mengonversi semua dokumen menjadi vektor dokumen menggunakan GloVe\n",
        "doc_vectors_glove = np.array([document_vector_glove(doc) for doc in df['stemmed_text']])"
      ],
      "metadata": {
        "id": "oLAAG--gxVHf"
      },
      "execution_count": null,
      "outputs": []
    },
    {
      "cell_type": "code",
      "source": [
        "# Memastikan vektor dokumen berhasil dibuat\n",
        "print(f\"Vektor dokumen pertama: {doc_vectors_glove[0]}\")\n",
        "print(f\"Shape dari vektor dokumen: {doc_vectors_glove.shape}\")"
      ],
      "metadata": {
        "colab": {
          "base_uri": "https://localhost:8080/"
        },
        "id": "KjFxl4n5xfBk",
        "outputId": "5915074b-f522-4587-ba40-2e8f6ada70da"
      },
      "execution_count": null,
      "outputs": [
        {
          "output_type": "stream",
          "name": "stdout",
          "text": [
            "Vektor dokumen pertama: [-0.01282525 -0.0102525  -0.00178     0.0001435  -0.0148555   0.00882475\n",
            "  0.039586    0.016713   -0.01533825  0.01573625 -0.0110455  -0.006955\n",
            " -0.04942825 -0.00833925  0.02675875  0.0188575  -0.035902    0.01743925\n",
            " -0.02839175  0.04296175  0.021429    0.00200375  0.01353525 -0.0004245\n",
            " -0.04664125 -0.01541075 -0.009829   -0.00830125 -0.0559495   0.013252\n",
            " -0.01962125 -0.01632875  0.005107   -0.01153275  0.040691    0.021577\n",
            "  0.02195925  0.03320075  0.00091975  0.02350375 -0.00937025 -0.0132735\n",
            "  0.0257415   0.04270425 -0.0250325  -0.0562475   0.05601575  0.00290225\n",
            "  0.00107625  0.017192    0.03266775  0.00310525 -0.0419925  -0.0199375\n",
            "  0.0340685  -0.03444875  0.039516   -0.011925   -0.05310475 -0.03285175\n",
            "  0.02965125  0.0219055   0.033333    0.037614    0.0056685   0.016876\n",
            "  0.06975875 -0.016751    0.05793675 -0.019562    0.02586975  0.0125845\n",
            "  0.011371    0.03499825 -0.081567   -0.02221425  0.0053505   0.02933925\n",
            "  0.03758975  0.00361825  0.02218025  0.01740075 -0.0275345  -0.0154495\n",
            " -0.01681875  0.01090675  0.03111025  0.00680725 -0.00133825 -0.00223125\n",
            " -0.00106875  0.00343575 -0.00659375  0.029912    0.01531275  0.04118325\n",
            " -0.0062185  -0.00220125 -0.03630975 -0.002413  ]\n",
            "Shape dari vektor dokumen: (302, 100)\n"
          ]
        }
      ]
    },
    {
      "cell_type": "code",
      "source": [
        "# Standarisasi vektor dokumen\n",
        "scaler = StandardScaler()\n",
        "doc_vectors_glove_scaled = scaler.fit_transform(doc_vectors_glove)"
      ],
      "metadata": {
        "id": "rEHT0nVG01nQ"
      },
      "execution_count": null,
      "outputs": []
    },
    {
      "cell_type": "code",
      "source": [
        "# Aplikasi LSA (TruncatedSVD)\n",
        "n_topics = 5  # Jumlah topik yang ingin dihasilkan\n",
        "lsa_model = TruncatedSVD(n_components=n_topics, random_state=42)\n",
        "lsa_topic_matrix = lsa_model.fit_transform(doc_vectors_glove_scaled)"
      ],
      "metadata": {
        "id": "NUSi0AOn1Fxj"
      },
      "execution_count": null,
      "outputs": []
    },
    {
      "cell_type": "code",
      "source": [
        "# Menampilkan topik yang dihasilkan dari LSA\n",
        "vocab = list(glove_model.keys())  # Mengambil daftar kata dari GloVe\n",
        "n_top_words = 10  # Jumlah kata terpenting yang ingin ditampilkan dari setiap topik\n",
        "\n",
        "for i, topic in enumerate(lsa_model.components_):\n",
        "    print(f\"Topik {i}:\")\n",
        "    # Mengambil indeks kata dengan kontribusi tertinggi, pastikan tidak melebihi panjang vocab\n",
        "    top_words_idx = [idx for idx in topic.argsort()[:-n_top_words - 1:-1] if idx < len(vocab)]\n",
        "    top_words = [vocab[i] for i in top_words_idx]  # Mendapatkan kata berdasarkan indeks\n",
        "    print(\" \".join(top_words))  # Menampilkan kata-kata terpenting dalam topik"
      ],
      "metadata": {
        "colab": {
          "base_uri": "https://localhost:8080/"
        },
        "id": "fptVI70U1Lf3",
        "outputId": "ee5041ad-f453-4b44-f417-158f6b139edb"
      },
      "execution_count": null,
      "outputs": [
        {
          "output_type": "stream",
          "name": "stdout",
          "text": [
            "Topik 0:\n",
            "kuliah perintah android informatika website bahasa jurus jadwal kelola usaha\n",
            "Topik 1:\n",
            "x\" fakultas mobile mobil jasa cari bas\n",
            "Topik 2:\n",
            "rumah cari aplikasi mobil media tugas\n",
            "Topik 3:\n",
            "akuntansi sistem ajar algoritma cari \"aplikasi bas jasa\n",
            "Topik 4:\n",
            "ajar rumah akuntansi cari jurus fakultas jadwal\n"
          ]
        }
      ]
    },
    {
      "cell_type": "code",
      "source": [
        "# NMF\n",
        "from sklearn.decomposition import NMF\n",
        "from sklearn.preprocessing import MinMaxScaler"
      ],
      "metadata": {
        "id": "_nz6LndM75iQ"
      },
      "execution_count": null,
      "outputs": []
    },
    {
      "cell_type": "code",
      "source": [
        "# Normalisasi vektor dokumen agar tidak ada nilai negatif (MinMaxScaler)\n",
        "scaler = MinMaxScaler()\n",
        "doc_vectors_glove_scaled = scaler.fit_transform(doc_vectors_glove)"
      ],
      "metadata": {
        "id": "kgi-pbGo-erl"
      },
      "execution_count": null,
      "outputs": []
    },
    {
      "cell_type": "code",
      "source": [
        "# Aplikasi NMF\n",
        "n_topics = 5  # Tentukan jumlah topik yang ingin dihasilkan\n",
        "nmf_model = NMF(n_components=n_topics, random_state=42)\n",
        "nmf_topic_matrix = nmf_model.fit_transform(doc_vectors_glove_scaled)"
      ],
      "metadata": {
        "colab": {
          "base_uri": "https://localhost:8080/"
        },
        "id": "lR0E2bPD-iSe",
        "outputId": "2bca0256-f848-4aef-e3c0-9d11f5126912"
      },
      "execution_count": null,
      "outputs": [
        {
          "output_type": "stream",
          "name": "stderr",
          "text": [
            "/usr/local/lib/python3.10/dist-packages/sklearn/decomposition/_nmf.py:1759: ConvergenceWarning: Maximum number of iterations 200 reached. Increase it to improve convergence.\n",
            "  warnings.warn(\n"
          ]
        }
      ]
    },
    {
      "cell_type": "code",
      "source": [
        "# Periksa hasil transformasi NMF untuk dokumen pertama\n",
        "print(f\"Hasil transformasi NMF untuk dokumen pertama: {nmf_topic_matrix[0]}\")\n"
      ],
      "metadata": {
        "colab": {
          "base_uri": "https://localhost:8080/"
        },
        "id": "RCiNtxBU-lV_",
        "outputId": "af7230b0-2c16-46b7-a461-ab08afd2f348"
      },
      "execution_count": null,
      "outputs": [
        {
          "output_type": "stream",
          "name": "stdout",
          "text": [
            "Hasil transformasi NMF untuk dokumen pertama: [0.09140012 0.32850588 0.09446394 0.         0.28768097]\n"
          ]
        }
      ]
    },
    {
      "cell_type": "code",
      "source": [
        "# Menampilkan topik yang dihasilkan dari NMF\n",
        "vocab = list(glove_model.keys())  # Mengambil daftar kata dari GloVe\n",
        "n_top_words = 10  # Jumlah kata terpenting yang ingin ditampilkan dari setiap topik\n",
        "\n",
        "for i, topic in enumerate(nmf_model.components_):\n",
        "    print(f\"Topik {i}:\")\n",
        "    # Menghindari error dengan membatasi pemrosesan hanya pada indeks yang valid\n",
        "    top_words_idx = [idx for idx in topic.argsort()[:-n_top_words - 1:-1] if idx < len(vocab)]  # Validasi indeks\n",
        "    top_words = [vocab[i] for i in top_words_idx]  # Mendapatkan kata berdasarkan indeks\n",
        "    print(\" \".join(top_words))"
      ],
      "metadata": {
        "colab": {
          "base_uri": "https://localhost:8080/"
        },
        "id": "vhL6y9Re-pFJ",
        "outputId": "13f6c789-e31c-4415-8e7f-fa5e9fd72ff5"
      },
      "execution_count": null,
      "outputs": [
        {
          "output_type": "stream",
          "name": "stdout",
          "text": [
            "Topik 0:\n",
            "web\" marketplace akademik enterprise putus sekolah online\n",
            "Topik 1:\n",
            "sewa android\" metode mobil rencana jasa\n",
            "Topik 2:\n",
            "uang \"kembang informasi jual\n",
            "Topik 3:\n",
            "akademik \"sistem x barang rekomendasi system\n",
            "Topik 4:\n",
            "\"aplikasi akuntansi surabaya\" bas administrasi online algoritma putus sekolah web\n"
          ]
        }
      ]
    },
    {
      "cell_type": "code",
      "source": [
        "from sklearn.cluster import KMeans\n",
        "from sklearn.decomposition import LatentDirichletAllocation\n",
        "from sklearn.preprocessing import normalize\n",
        "import numpy as np"
      ],
      "metadata": {
        "id": "WWS7BYPWGtVQ"
      },
      "execution_count": null,
      "outputs": []
    },
    {
      "cell_type": "code",
      "source": [
        "# Langkah 1: Siapkan vektor kata dari model GloVe\n",
        "word_vectors = np.array([glove_model[word] for word in glove_model.keys()])  # Semua vektor kata\n",
        "vocab = list(glove_model.keys())  # Semua kata dalam model GloVe"
      ],
      "metadata": {
        "id": "dH6AyxCqO3dR"
      },
      "execution_count": null,
      "outputs": []
    },
    {
      "cell_type": "code",
      "source": [
        "# Langkah 2: K-Clustering pada vektor kata GloVe\n",
        "n_clusters = 10  # Jumlah cluster yang diinginkan\n",
        "kmeans = KMeans(n_clusters=n_clusters, random_state=42)\n",
        "kmeans.fit(word_vectors)"
      ],
      "metadata": {
        "colab": {
          "base_uri": "https://localhost:8080/",
          "height": 80
        },
        "id": "l72JeuVgO7Vn",
        "outputId": "86d85852-fa48-4af6-9974-4e49340603a5"
      },
      "execution_count": null,
      "outputs": [
        {
          "output_type": "execute_result",
          "data": {
            "text/plain": [
              "KMeans(n_clusters=10, random_state=42)"
            ],
            "text/html": [
              "<style>#sk-container-id-1 {\n",
              "  /* Definition of color scheme common for light and dark mode */\n",
              "  --sklearn-color-text: black;\n",
              "  --sklearn-color-line: gray;\n",
              "  /* Definition of color scheme for unfitted estimators */\n",
              "  --sklearn-color-unfitted-level-0: #fff5e6;\n",
              "  --sklearn-color-unfitted-level-1: #f6e4d2;\n",
              "  --sklearn-color-unfitted-level-2: #ffe0b3;\n",
              "  --sklearn-color-unfitted-level-3: chocolate;\n",
              "  /* Definition of color scheme for fitted estimators */\n",
              "  --sklearn-color-fitted-level-0: #f0f8ff;\n",
              "  --sklearn-color-fitted-level-1: #d4ebff;\n",
              "  --sklearn-color-fitted-level-2: #b3dbfd;\n",
              "  --sklearn-color-fitted-level-3: cornflowerblue;\n",
              "\n",
              "  /* Specific color for light theme */\n",
              "  --sklearn-color-text-on-default-background: var(--sg-text-color, var(--theme-code-foreground, var(--jp-content-font-color1, black)));\n",
              "  --sklearn-color-background: var(--sg-background-color, var(--theme-background, var(--jp-layout-color0, white)));\n",
              "  --sklearn-color-border-box: var(--sg-text-color, var(--theme-code-foreground, var(--jp-content-font-color1, black)));\n",
              "  --sklearn-color-icon: #696969;\n",
              "\n",
              "  @media (prefers-color-scheme: dark) {\n",
              "    /* Redefinition of color scheme for dark theme */\n",
              "    --sklearn-color-text-on-default-background: var(--sg-text-color, var(--theme-code-foreground, var(--jp-content-font-color1, white)));\n",
              "    --sklearn-color-background: var(--sg-background-color, var(--theme-background, var(--jp-layout-color0, #111)));\n",
              "    --sklearn-color-border-box: var(--sg-text-color, var(--theme-code-foreground, var(--jp-content-font-color1, white)));\n",
              "    --sklearn-color-icon: #878787;\n",
              "  }\n",
              "}\n",
              "\n",
              "#sk-container-id-1 {\n",
              "  color: var(--sklearn-color-text);\n",
              "}\n",
              "\n",
              "#sk-container-id-1 pre {\n",
              "  padding: 0;\n",
              "}\n",
              "\n",
              "#sk-container-id-1 input.sk-hidden--visually {\n",
              "  border: 0;\n",
              "  clip: rect(1px 1px 1px 1px);\n",
              "  clip: rect(1px, 1px, 1px, 1px);\n",
              "  height: 1px;\n",
              "  margin: -1px;\n",
              "  overflow: hidden;\n",
              "  padding: 0;\n",
              "  position: absolute;\n",
              "  width: 1px;\n",
              "}\n",
              "\n",
              "#sk-container-id-1 div.sk-dashed-wrapped {\n",
              "  border: 1px dashed var(--sklearn-color-line);\n",
              "  margin: 0 0.4em 0.5em 0.4em;\n",
              "  box-sizing: border-box;\n",
              "  padding-bottom: 0.4em;\n",
              "  background-color: var(--sklearn-color-background);\n",
              "}\n",
              "\n",
              "#sk-container-id-1 div.sk-container {\n",
              "  /* jupyter's `normalize.less` sets `[hidden] { display: none; }`\n",
              "     but bootstrap.min.css set `[hidden] { display: none !important; }`\n",
              "     so we also need the `!important` here to be able to override the\n",
              "     default hidden behavior on the sphinx rendered scikit-learn.org.\n",
              "     See: https://github.com/scikit-learn/scikit-learn/issues/21755 */\n",
              "  display: inline-block !important;\n",
              "  position: relative;\n",
              "}\n",
              "\n",
              "#sk-container-id-1 div.sk-text-repr-fallback {\n",
              "  display: none;\n",
              "}\n",
              "\n",
              "div.sk-parallel-item,\n",
              "div.sk-serial,\n",
              "div.sk-item {\n",
              "  /* draw centered vertical line to link estimators */\n",
              "  background-image: linear-gradient(var(--sklearn-color-text-on-default-background), var(--sklearn-color-text-on-default-background));\n",
              "  background-size: 2px 100%;\n",
              "  background-repeat: no-repeat;\n",
              "  background-position: center center;\n",
              "}\n",
              "\n",
              "/* Parallel-specific style estimator block */\n",
              "\n",
              "#sk-container-id-1 div.sk-parallel-item::after {\n",
              "  content: \"\";\n",
              "  width: 100%;\n",
              "  border-bottom: 2px solid var(--sklearn-color-text-on-default-background);\n",
              "  flex-grow: 1;\n",
              "}\n",
              "\n",
              "#sk-container-id-1 div.sk-parallel {\n",
              "  display: flex;\n",
              "  align-items: stretch;\n",
              "  justify-content: center;\n",
              "  background-color: var(--sklearn-color-background);\n",
              "  position: relative;\n",
              "}\n",
              "\n",
              "#sk-container-id-1 div.sk-parallel-item {\n",
              "  display: flex;\n",
              "  flex-direction: column;\n",
              "}\n",
              "\n",
              "#sk-container-id-1 div.sk-parallel-item:first-child::after {\n",
              "  align-self: flex-end;\n",
              "  width: 50%;\n",
              "}\n",
              "\n",
              "#sk-container-id-1 div.sk-parallel-item:last-child::after {\n",
              "  align-self: flex-start;\n",
              "  width: 50%;\n",
              "}\n",
              "\n",
              "#sk-container-id-1 div.sk-parallel-item:only-child::after {\n",
              "  width: 0;\n",
              "}\n",
              "\n",
              "/* Serial-specific style estimator block */\n",
              "\n",
              "#sk-container-id-1 div.sk-serial {\n",
              "  display: flex;\n",
              "  flex-direction: column;\n",
              "  align-items: center;\n",
              "  background-color: var(--sklearn-color-background);\n",
              "  padding-right: 1em;\n",
              "  padding-left: 1em;\n",
              "}\n",
              "\n",
              "\n",
              "/* Toggleable style: style used for estimator/Pipeline/ColumnTransformer box that is\n",
              "clickable and can be expanded/collapsed.\n",
              "- Pipeline and ColumnTransformer use this feature and define the default style\n",
              "- Estimators will overwrite some part of the style using the `sk-estimator` class\n",
              "*/\n",
              "\n",
              "/* Pipeline and ColumnTransformer style (default) */\n",
              "\n",
              "#sk-container-id-1 div.sk-toggleable {\n",
              "  /* Default theme specific background. It is overwritten whether we have a\n",
              "  specific estimator or a Pipeline/ColumnTransformer */\n",
              "  background-color: var(--sklearn-color-background);\n",
              "}\n",
              "\n",
              "/* Toggleable label */\n",
              "#sk-container-id-1 label.sk-toggleable__label {\n",
              "  cursor: pointer;\n",
              "  display: block;\n",
              "  width: 100%;\n",
              "  margin-bottom: 0;\n",
              "  padding: 0.5em;\n",
              "  box-sizing: border-box;\n",
              "  text-align: center;\n",
              "}\n",
              "\n",
              "#sk-container-id-1 label.sk-toggleable__label-arrow:before {\n",
              "  /* Arrow on the left of the label */\n",
              "  content: \"▸\";\n",
              "  float: left;\n",
              "  margin-right: 0.25em;\n",
              "  color: var(--sklearn-color-icon);\n",
              "}\n",
              "\n",
              "#sk-container-id-1 label.sk-toggleable__label-arrow:hover:before {\n",
              "  color: var(--sklearn-color-text);\n",
              "}\n",
              "\n",
              "/* Toggleable content - dropdown */\n",
              "\n",
              "#sk-container-id-1 div.sk-toggleable__content {\n",
              "  max-height: 0;\n",
              "  max-width: 0;\n",
              "  overflow: hidden;\n",
              "  text-align: left;\n",
              "  /* unfitted */\n",
              "  background-color: var(--sklearn-color-unfitted-level-0);\n",
              "}\n",
              "\n",
              "#sk-container-id-1 div.sk-toggleable__content.fitted {\n",
              "  /* fitted */\n",
              "  background-color: var(--sklearn-color-fitted-level-0);\n",
              "}\n",
              "\n",
              "#sk-container-id-1 div.sk-toggleable__content pre {\n",
              "  margin: 0.2em;\n",
              "  border-radius: 0.25em;\n",
              "  color: var(--sklearn-color-text);\n",
              "  /* unfitted */\n",
              "  background-color: var(--sklearn-color-unfitted-level-0);\n",
              "}\n",
              "\n",
              "#sk-container-id-1 div.sk-toggleable__content.fitted pre {\n",
              "  /* unfitted */\n",
              "  background-color: var(--sklearn-color-fitted-level-0);\n",
              "}\n",
              "\n",
              "#sk-container-id-1 input.sk-toggleable__control:checked~div.sk-toggleable__content {\n",
              "  /* Expand drop-down */\n",
              "  max-height: 200px;\n",
              "  max-width: 100%;\n",
              "  overflow: auto;\n",
              "}\n",
              "\n",
              "#sk-container-id-1 input.sk-toggleable__control:checked~label.sk-toggleable__label-arrow:before {\n",
              "  content: \"▾\";\n",
              "}\n",
              "\n",
              "/* Pipeline/ColumnTransformer-specific style */\n",
              "\n",
              "#sk-container-id-1 div.sk-label input.sk-toggleable__control:checked~label.sk-toggleable__label {\n",
              "  color: var(--sklearn-color-text);\n",
              "  background-color: var(--sklearn-color-unfitted-level-2);\n",
              "}\n",
              "\n",
              "#sk-container-id-1 div.sk-label.fitted input.sk-toggleable__control:checked~label.sk-toggleable__label {\n",
              "  background-color: var(--sklearn-color-fitted-level-2);\n",
              "}\n",
              "\n",
              "/* Estimator-specific style */\n",
              "\n",
              "/* Colorize estimator box */\n",
              "#sk-container-id-1 div.sk-estimator input.sk-toggleable__control:checked~label.sk-toggleable__label {\n",
              "  /* unfitted */\n",
              "  background-color: var(--sklearn-color-unfitted-level-2);\n",
              "}\n",
              "\n",
              "#sk-container-id-1 div.sk-estimator.fitted input.sk-toggleable__control:checked~label.sk-toggleable__label {\n",
              "  /* fitted */\n",
              "  background-color: var(--sklearn-color-fitted-level-2);\n",
              "}\n",
              "\n",
              "#sk-container-id-1 div.sk-label label.sk-toggleable__label,\n",
              "#sk-container-id-1 div.sk-label label {\n",
              "  /* The background is the default theme color */\n",
              "  color: var(--sklearn-color-text-on-default-background);\n",
              "}\n",
              "\n",
              "/* On hover, darken the color of the background */\n",
              "#sk-container-id-1 div.sk-label:hover label.sk-toggleable__label {\n",
              "  color: var(--sklearn-color-text);\n",
              "  background-color: var(--sklearn-color-unfitted-level-2);\n",
              "}\n",
              "\n",
              "/* Label box, darken color on hover, fitted */\n",
              "#sk-container-id-1 div.sk-label.fitted:hover label.sk-toggleable__label.fitted {\n",
              "  color: var(--sklearn-color-text);\n",
              "  background-color: var(--sklearn-color-fitted-level-2);\n",
              "}\n",
              "\n",
              "/* Estimator label */\n",
              "\n",
              "#sk-container-id-1 div.sk-label label {\n",
              "  font-family: monospace;\n",
              "  font-weight: bold;\n",
              "  display: inline-block;\n",
              "  line-height: 1.2em;\n",
              "}\n",
              "\n",
              "#sk-container-id-1 div.sk-label-container {\n",
              "  text-align: center;\n",
              "}\n",
              "\n",
              "/* Estimator-specific */\n",
              "#sk-container-id-1 div.sk-estimator {\n",
              "  font-family: monospace;\n",
              "  border: 1px dotted var(--sklearn-color-border-box);\n",
              "  border-radius: 0.25em;\n",
              "  box-sizing: border-box;\n",
              "  margin-bottom: 0.5em;\n",
              "  /* unfitted */\n",
              "  background-color: var(--sklearn-color-unfitted-level-0);\n",
              "}\n",
              "\n",
              "#sk-container-id-1 div.sk-estimator.fitted {\n",
              "  /* fitted */\n",
              "  background-color: var(--sklearn-color-fitted-level-0);\n",
              "}\n",
              "\n",
              "/* on hover */\n",
              "#sk-container-id-1 div.sk-estimator:hover {\n",
              "  /* unfitted */\n",
              "  background-color: var(--sklearn-color-unfitted-level-2);\n",
              "}\n",
              "\n",
              "#sk-container-id-1 div.sk-estimator.fitted:hover {\n",
              "  /* fitted */\n",
              "  background-color: var(--sklearn-color-fitted-level-2);\n",
              "}\n",
              "\n",
              "/* Specification for estimator info (e.g. \"i\" and \"?\") */\n",
              "\n",
              "/* Common style for \"i\" and \"?\" */\n",
              "\n",
              ".sk-estimator-doc-link,\n",
              "a:link.sk-estimator-doc-link,\n",
              "a:visited.sk-estimator-doc-link {\n",
              "  float: right;\n",
              "  font-size: smaller;\n",
              "  line-height: 1em;\n",
              "  font-family: monospace;\n",
              "  background-color: var(--sklearn-color-background);\n",
              "  border-radius: 1em;\n",
              "  height: 1em;\n",
              "  width: 1em;\n",
              "  text-decoration: none !important;\n",
              "  margin-left: 1ex;\n",
              "  /* unfitted */\n",
              "  border: var(--sklearn-color-unfitted-level-1) 1pt solid;\n",
              "  color: var(--sklearn-color-unfitted-level-1);\n",
              "}\n",
              "\n",
              ".sk-estimator-doc-link.fitted,\n",
              "a:link.sk-estimator-doc-link.fitted,\n",
              "a:visited.sk-estimator-doc-link.fitted {\n",
              "  /* fitted */\n",
              "  border: var(--sklearn-color-fitted-level-1) 1pt solid;\n",
              "  color: var(--sklearn-color-fitted-level-1);\n",
              "}\n",
              "\n",
              "/* On hover */\n",
              "div.sk-estimator:hover .sk-estimator-doc-link:hover,\n",
              ".sk-estimator-doc-link:hover,\n",
              "div.sk-label-container:hover .sk-estimator-doc-link:hover,\n",
              ".sk-estimator-doc-link:hover {\n",
              "  /* unfitted */\n",
              "  background-color: var(--sklearn-color-unfitted-level-3);\n",
              "  color: var(--sklearn-color-background);\n",
              "  text-decoration: none;\n",
              "}\n",
              "\n",
              "div.sk-estimator.fitted:hover .sk-estimator-doc-link.fitted:hover,\n",
              ".sk-estimator-doc-link.fitted:hover,\n",
              "div.sk-label-container:hover .sk-estimator-doc-link.fitted:hover,\n",
              ".sk-estimator-doc-link.fitted:hover {\n",
              "  /* fitted */\n",
              "  background-color: var(--sklearn-color-fitted-level-3);\n",
              "  color: var(--sklearn-color-background);\n",
              "  text-decoration: none;\n",
              "}\n",
              "\n",
              "/* Span, style for the box shown on hovering the info icon */\n",
              ".sk-estimator-doc-link span {\n",
              "  display: none;\n",
              "  z-index: 9999;\n",
              "  position: relative;\n",
              "  font-weight: normal;\n",
              "  right: .2ex;\n",
              "  padding: .5ex;\n",
              "  margin: .5ex;\n",
              "  width: min-content;\n",
              "  min-width: 20ex;\n",
              "  max-width: 50ex;\n",
              "  color: var(--sklearn-color-text);\n",
              "  box-shadow: 2pt 2pt 4pt #999;\n",
              "  /* unfitted */\n",
              "  background: var(--sklearn-color-unfitted-level-0);\n",
              "  border: .5pt solid var(--sklearn-color-unfitted-level-3);\n",
              "}\n",
              "\n",
              ".sk-estimator-doc-link.fitted span {\n",
              "  /* fitted */\n",
              "  background: var(--sklearn-color-fitted-level-0);\n",
              "  border: var(--sklearn-color-fitted-level-3);\n",
              "}\n",
              "\n",
              ".sk-estimator-doc-link:hover span {\n",
              "  display: block;\n",
              "}\n",
              "\n",
              "/* \"?\"-specific style due to the `<a>` HTML tag */\n",
              "\n",
              "#sk-container-id-1 a.estimator_doc_link {\n",
              "  float: right;\n",
              "  font-size: 1rem;\n",
              "  line-height: 1em;\n",
              "  font-family: monospace;\n",
              "  background-color: var(--sklearn-color-background);\n",
              "  border-radius: 1rem;\n",
              "  height: 1rem;\n",
              "  width: 1rem;\n",
              "  text-decoration: none;\n",
              "  /* unfitted */\n",
              "  color: var(--sklearn-color-unfitted-level-1);\n",
              "  border: var(--sklearn-color-unfitted-level-1) 1pt solid;\n",
              "}\n",
              "\n",
              "#sk-container-id-1 a.estimator_doc_link.fitted {\n",
              "  /* fitted */\n",
              "  border: var(--sklearn-color-fitted-level-1) 1pt solid;\n",
              "  color: var(--sklearn-color-fitted-level-1);\n",
              "}\n",
              "\n",
              "/* On hover */\n",
              "#sk-container-id-1 a.estimator_doc_link:hover {\n",
              "  /* unfitted */\n",
              "  background-color: var(--sklearn-color-unfitted-level-3);\n",
              "  color: var(--sklearn-color-background);\n",
              "  text-decoration: none;\n",
              "}\n",
              "\n",
              "#sk-container-id-1 a.estimator_doc_link.fitted:hover {\n",
              "  /* fitted */\n",
              "  background-color: var(--sklearn-color-fitted-level-3);\n",
              "}\n",
              "</style><div id=\"sk-container-id-1\" class=\"sk-top-container\"><div class=\"sk-text-repr-fallback\"><pre>KMeans(n_clusters=10, random_state=42)</pre><b>In a Jupyter environment, please rerun this cell to show the HTML representation or trust the notebook. <br />On GitHub, the HTML representation is unable to render, please try loading this page with nbviewer.org.</b></div><div class=\"sk-container\" hidden><div class=\"sk-item\"><div class=\"sk-estimator fitted sk-toggleable\"><input class=\"sk-toggleable__control sk-hidden--visually\" id=\"sk-estimator-id-1\" type=\"checkbox\" checked><label for=\"sk-estimator-id-1\" class=\"sk-toggleable__label fitted sk-toggleable__label-arrow fitted\">&nbsp;&nbsp;KMeans<a class=\"sk-estimator-doc-link fitted\" rel=\"noreferrer\" target=\"_blank\" href=\"https://scikit-learn.org/1.5/modules/generated/sklearn.cluster.KMeans.html\">?<span>Documentation for KMeans</span></a><span class=\"sk-estimator-doc-link fitted\">i<span>Fitted</span></span></label><div class=\"sk-toggleable__content fitted\"><pre>KMeans(n_clusters=10, random_state=42)</pre></div> </div></div></div></div>"
            ]
          },
          "metadata": {},
          "execution_count": 37
        }
      ]
    },
    {
      "cell_type": "code",
      "source": [
        "# Mapping dari kata ke cluster\n",
        "word_to_cluster = {word: cluster for word, cluster in zip(vocab, kmeans.labels_)}"
      ],
      "metadata": {
        "id": "EgXqKhtGO9Sr"
      },
      "execution_count": null,
      "outputs": []
    },
    {
      "cell_type": "code",
      "source": [
        "# Langkah 3: Representasikan dokumen sebagai distribusi cluster\n",
        "def document_to_cluster_distribution(doc):\n",
        "    cluster_counts = np.zeros(n_clusters)\n",
        "    for word in doc.split():\n",
        "        if word in word_to_cluster:\n",
        "            cluster_counts[word_to_cluster[word]] += 1\n",
        "    return cluster_counts"
      ],
      "metadata": {
        "id": "vxQrvS5VPCXi"
      },
      "execution_count": null,
      "outputs": []
    },
    {
      "cell_type": "code",
      "source": [
        "# Konversi semua dokumen menjadi distribusi cluster\n",
        "doc_cluster_distributions = np.array([document_to_cluster_distribution(doc) for doc in df['stemmed_text']])"
      ],
      "metadata": {
        "id": "wLjYFy9XPEXh"
      },
      "execution_count": null,
      "outputs": []
    },
    {
      "cell_type": "code",
      "source": [
        "# Normalisasi distribusi cluster agar menjadi probabilitas\n",
        "doc_cluster_distributions_normalized = normalize(doc_cluster_distributions, norm='l1')"
      ],
      "metadata": {
        "id": "y4g13LMbPGhg"
      },
      "execution_count": null,
      "outputs": []
    },
    {
      "cell_type": "code",
      "source": [
        "# Langkah 4: Melatih LDA dengan distribusi cluster\n",
        "n_topics = 5  # Jumlah topik yang diinginkan\n",
        "lda_model = LatentDirichletAllocation(n_components=n_topics, random_state=42)\n",
        "lda_topic_matrix = lda_model.fit_transform(doc_cluster_distributions_normalized)"
      ],
      "metadata": {
        "id": "CXZgsu1aPIMa"
      },
      "execution_count": null,
      "outputs": []
    },
    {
      "cell_type": "code",
      "source": [
        "# Langkah 5: Persiapan data untuk Gensim\n",
        "# Konversi ke format corpus Gensim\n",
        "corpus = [\n",
        "    [(idx, count) for idx, count in enumerate(doc)]\n",
        "    for doc in doc_cluster_distributions_normalized\n",
        "]"
      ],
      "metadata": {
        "id": "fU4Ci0XIPKM2"
      },
      "execution_count": null,
      "outputs": []
    },
    {
      "cell_type": "code",
      "source": [
        "# Dummy dictionary karena distribusi cluster tidak memiliki dictionary nyata\n",
        "from gensim.corpora import Dictionary\n",
        "dummy_dict = Dictionary([list(map(str, range(n_clusters)))])"
      ],
      "metadata": {
        "id": "8DuO-mx-PMer"
      },
      "execution_count": null,
      "outputs": []
    },
    {
      "cell_type": "code",
      "source": [
        "# Melatih LDA dengan Gensim\n",
        "from gensim.models import LdaModel\n",
        "gensim_lda_model = LdaModel(\n",
        "    corpus=corpus,\n",
        "    id2word=dummy_dict,\n",
        "    num_topics=n_topics,\n",
        "    random_state=42,\n",
        "    passes=10\n",
        ")"
      ],
      "metadata": {
        "id": "1YuWtTXPPOif"
      },
      "execution_count": null,
      "outputs": []
    },
    {
      "cell_type": "code",
      "source": [
        "# Langkah 6: Menampilkan kata-kata terpenting dari setiap topik\n",
        "# Mapping cluster ke kata-kata\n",
        "cluster_to_words = {cluster: [] for cluster in range(n_clusters)}\n",
        "for word, cluster in word_to_cluster.items():\n",
        "    cluster_to_words[cluster].append(word)"
      ],
      "metadata": {
        "id": "XWtItAo6PQal"
      },
      "execution_count": null,
      "outputs": []
    },
    {
      "cell_type": "code",
      "source": [
        "# Menampilkan topik dengan kata-kata terpenting\n",
        "n_top_words = 10\n",
        "for idx, topic in gensim_lda_model.show_topics(num_topics=n_topics, num_words=n_top_words, formatted=False):\n",
        "    print(f\"Topik {idx}:\")\n",
        "    top_clusters = [int(word) for word, _ in topic]\n",
        "    top_words = []\n",
        "    for cluster_idx in top_clusters:\n",
        "        top_words.extend(cluster_to_words[cluster_idx][:n_top_words])\n",
        "    print(\" \".join(top_words[:n_top_words]))"
      ],
      "metadata": {
        "colab": {
          "base_uri": "https://localhost:8080/"
        },
        "id": "U6ibRXQ1PTMk",
        "outputId": "0923861c-b663-420e-8728-1da01a47efba"
      },
      "execution_count": null,
      "outputs": [
        {
          "output_type": "stream",
          "name": "stdout",
          "text": [
            "Topik 0:\n",
            "bas aplikasi jual ajar manajemen website \"sistem game mobile \"kembang\n",
            "Topik 1:\n",
            "sistem informasi system toko x\" dasar surabaya barang enterprise akademik\n",
            "Topik 2:\n",
            "metode beli configurable pt x administrasi cari media rekomendasi usaha\n",
            "Topik 3:\n",
            "system toko x\" dasar surabaya barang enterprise akademik mahasiswa rencana\n",
            "Topik 4:\n",
            "jual ajar manajemen website \"sistem game mobile \"kembang metode beli\n"
          ]
        }
      ]
    },
    {
      "cell_type": "code",
      "source": [
        "# Menghitung perplexity untuk LDA\n",
        "lda_perplexity = gensim_lda_model.log_perplexity(corpus)\n",
        "print(f\"Perplexity Score for LDA: {lda_perplexity}\")"
      ],
      "metadata": {
        "colab": {
          "base_uri": "https://localhost:8080/"
        },
        "id": "JVGkuDYoPVY1",
        "outputId": "d82d2ff6-e464-4160-b5c6-29cf00488aed"
      },
      "execution_count": null,
      "outputs": [
        {
          "output_type": "stream",
          "name": "stdout",
          "text": [
            "Perplexity Score for LDA: -3.265967833137167\n"
          ]
        }
      ]
    },
    {
      "cell_type": "code",
      "source": [
        "from gensim.models import CoherenceModel\n",
        "from gensim.corpora import Dictionary"
      ],
      "metadata": {
        "id": "BYguvOveSOmt"
      },
      "execution_count": null,
      "outputs": []
    },
    {
      "cell_type": "code",
      "source": [
        "# Siapkan teks yang sudah di-preprocessed\n",
        "texts = [doc.split() for doc in df['stemmed_text']]"
      ],
      "metadata": {
        "id": "D7h01To8SRwK"
      },
      "execution_count": null,
      "outputs": []
    },
    {
      "cell_type": "code",
      "source": [
        "# Siapkan corpus dan dictionary untuk Coherence Score\n",
        "dictionary = Dictionary(texts)\n",
        "corpus = [dictionary.doc2bow(text) for text in texts]\n",
        "\n",
        "def compute_coherence_score(topics, texts, dictionary, corpus):\n",
        "    coherence_model = CoherenceModel(\n",
        "        topics=topics,\n",
        "        texts=texts,\n",
        "        dictionary=dictionary,\n",
        "        coherence='c_v'\n",
        "    )\n",
        "    return coherence_model.get_coherence()"
      ],
      "metadata": {
        "id": "TpvHioXNSTpq"
      },
      "execution_count": null,
      "outputs": []
    },
    {
      "cell_type": "code",
      "source": [
        "# LSA\n",
        "lsa_topics = [[vocab[idx] for idx in topic.argsort()[:-10 - 1:-1] if idx < len(vocab)] for topic in lsa_model.components_]\n",
        "lsa_coherence = compute_coherence_score(lsa_topics, texts, dictionary, corpus)\n",
        "print(f\"Coherence Score for LSA: {lsa_coherence}\")"
      ],
      "metadata": {
        "colab": {
          "base_uri": "https://localhost:8080/"
        },
        "id": "eYvk6U57SVdY",
        "outputId": "cbae83a8-1af4-42ef-8c40-35f73eaddc15"
      },
      "execution_count": null,
      "outputs": [
        {
          "output_type": "stream",
          "name": "stdout",
          "text": [
            "Coherence Score for LSA: 0.42706480307010997\n"
          ]
        }
      ]
    },
    {
      "cell_type": "code",
      "source": [
        "# NMF\n",
        "nmf_topics = [[vocab[idx] for idx in topic.argsort()[:-10 - 1:-1] if idx < len(vocab)] for topic in nmf_model.components_]\n",
        "nmf_coherence = compute_coherence_score(nmf_topics, texts, dictionary, corpus)\n",
        "print(f\"Coherence Score for NMF: {nmf_coherence}\")"
      ],
      "metadata": {
        "colab": {
          "base_uri": "https://localhost:8080/"
        },
        "id": "2Arlxt-ASb5e",
        "outputId": "1a00a607-1738-4ef2-c11d-0c77e4c95a83"
      },
      "execution_count": null,
      "outputs": [
        {
          "output_type": "stream",
          "name": "stdout",
          "text": [
            "Coherence Score for NMF: 0.3706257271594161\n"
          ]
        }
      ]
    },
    {
      "cell_type": "code",
      "source": [
        "# LDA\n",
        "lda_topics = [\n",
        "    [\n",
        "        dictionary[int(word.split('*')[1].replace('\"', '').strip())]\n",
        "        for word in topic[1].split(' + ')\n",
        "    ]\n",
        "    for topic in gensim_lda_model.show_topics(num_topics=n_topics, num_words=10, formatted=True)\n",
        "]\n",
        "lda_coherence = compute_coherence_score(lda_topics, texts, dictionary, corpus)\n",
        "print(f\"Coherence Score for LDA: {lda_coherence}\")"
      ],
      "metadata": {
        "colab": {
          "base_uri": "https://localhost:8080/"
        },
        "id": "s5MzsaBfShcQ",
        "outputId": "fe6b9455-ea1f-4815-a76f-6cf7bb08f9c2"
      },
      "execution_count": null,
      "outputs": [
        {
          "output_type": "stream",
          "name": "stdout",
          "text": [
            "Coherence Score for LDA: 0.771458504688136\n"
          ]
        }
      ]
    },
    {
      "cell_type": "code",
      "source": [
        "from sklearn.metrics.pairwise import cosine_similarity"
      ],
      "metadata": {
        "id": "zFewJJAnSmZW"
      },
      "execution_count": null,
      "outputs": []
    },
    {
      "cell_type": "code",
      "source": [
        "def compute_word_similarity(topics, embedding_model):\n",
        "    similarities = []\n",
        "    for topic in topics:\n",
        "        word_vectors = [embedding_model[word] for word in topic if word in embedding_model]\n",
        "        if len(word_vectors) > 1:\n",
        "            # Hitung rata-rata jarak kosinus antar kata dalam topik\n",
        "            similarity_matrix = cosine_similarity(word_vectors)\n",
        "            upper_triangle = similarity_matrix[np.triu_indices_from(similarity_matrix, k=1)]\n",
        "            similarities.append(np.mean(upper_triangle))\n",
        "    return np.mean(similarities)"
      ],
      "metadata": {
        "id": "dj3vgvzGVYY8"
      },
      "execution_count": null,
      "outputs": []
    },
    {
      "cell_type": "code",
      "source": [
        "# LSA\n",
        "lsa_similarity = compute_word_similarity(lsa_topics, glove_model)\n",
        "print(f\"Word Similarity for LSA: {lsa_similarity}\")\n",
        "\n",
        "# NMF\n",
        "nmf_similarity = compute_word_similarity(nmf_topics, glove_model)\n",
        "print(f\"Word Similarity for NMF: {nmf_similarity}\")\n",
        "\n",
        "# LDA\n",
        "lda_similarity = compute_word_similarity(lda_topics, glove_model)\n",
        "print(f\"Word Similarity for LDA: {lda_similarity}\")"
      ],
      "metadata": {
        "colab": {
          "base_uri": "https://localhost:8080/"
        },
        "id": "I6mnqONWVaYt",
        "outputId": "1ecff8a8-988c-4779-9325-10d6f45aaa4c"
      },
      "execution_count": null,
      "outputs": [
        {
          "output_type": "stream",
          "name": "stdout",
          "text": [
            "Word Similarity for LSA: 0.07666001406619206\n",
            "Word Similarity for NMF: 0.06029155874377399\n",
            "Word Similarity for LDA: -0.10558011056802477\n"
          ]
        }
      ]
    },
    {
      "cell_type": "code",
      "source": [],
      "metadata": {
        "id": "D-f2nNr9D7Gu"
      },
      "execution_count": null,
      "outputs": []
    }
  ]
}